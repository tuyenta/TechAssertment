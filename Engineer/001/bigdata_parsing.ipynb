{
 "cells": [
  {
   "cell_type": "markdown",
   "metadata": {},
   "source": [
    "# Parsing big data file in Python"
   ]
  },
  {
   "cell_type": "code",
   "execution_count": 2,
   "metadata": {},
   "outputs": [
    {
     "name": "stderr",
     "output_type": "stream",
     "text": [
      "\n",
      "Bad key “backend in file /Users/tuyenta/.matplotlib/matplotlibrc, line 1 ('“backend: TkAgg”')\n",
      "You probably need to get an updated matplotlibrc file from\n",
      "https://github.com/matplotlib/matplotlib/blob/v3.3.2/matplotlibrc.template\n",
      "or from the matplotlib source distribution\n"
     ]
    }
   ],
   "source": [
    "# Import package\n",
    "import vaex"
   ]
  },
  {
   "cell_type": "code",
   "execution_count": 4,
   "metadata": {},
   "outputs": [
    {
     "data": {
      "text/html": [
       "<table>\n",
       "<thead>\n",
       "<tr><th>#                                  </th><th>datasetid                                          </th><th>recordid                                </th><th>fields                                             </th><th>record_timestamp        </th></tr>\n",
       "</thead>\n",
       "<tbody>\n",
       "<tr><td><i style='opacity: 0.6'>0</i>      </td><td>&#x27;244400404_parkings-publics-nantes-statistiques-...</td><td>6260b0571ca3989e6a2b8f488a33d79f52c75645</td><td>&quot;{&#x27;code_type_usager&#x27;: 1, &#x27;occupation_nb_vehicule...</td><td>2021-05-27T09:10:24.089Z</td></tr>\n",
       "<tr><td><i style='opacity: 0.6'>1</i>      </td><td>&#x27;244400404_parkings-publics-nantes-statistiques-...</td><td>b27b6ef10998d6524f224509681b2be9ddbcd405</td><td>&quot;{&#x27;code_type_usager&#x27;: 2, &#x27;occupation_nb_vehicule...</td><td>2021-05-27T09:10:24.089Z</td></tr>\n",
       "<tr><td><i style='opacity: 0.6'>2</i>      </td><td>&#x27;244400404_parkings-publics-nantes-statistiques-...</td><td>1c767e72a0dfc828aca3c7521146818ab694cb89</td><td>&quot;{&#x27;code_type_usager&#x27;: 1, &#x27;occupation_nb_vehicule...</td><td>2021-05-27T09:10:24.089Z</td></tr>\n",
       "<tr><td><i style='opacity: 0.6'>3</i>      </td><td>&#x27;244400404_parkings-publics-nantes-statistiques-...</td><td>5fe135a6f08a19016649f741866928be655d3938</td><td>&quot;{&#x27;code_type_usager&#x27;: 99, &#x27;occupation_nb_vehicul...</td><td>2021-05-27T09:10:24.089Z</td></tr>\n",
       "<tr><td><i style='opacity: 0.6'>4</i>      </td><td>&#x27;244400404_parkings-publics-nantes-statistiques-...</td><td>92a789c8ddd4f9c40496c5431030f78323c15ea3</td><td>&quot;{&#x27;code_type_usager&#x27;: 2, &#x27;occupation_nb_vehicule...</td><td>2021-05-27T09:10:24.089Z</td></tr>\n",
       "<tr><td>...                                </td><td>...                                                </td><td>...                                     </td><td>...                                                </td><td>...                     </td></tr>\n",
       "<tr><td><i style='opacity: 0.6'>724,639</i></td><td>&#x27;244400404_parkings-publics-nantes-statistiques-...</td><td>70501736408d7adfe84231e5024c206863dc2dc6</td><td>&quot;{&#x27;code_type_usager&#x27;: 99, &#x27;occupation_nb_vehicul...</td><td>2021-05-27T09:10:24.089Z</td></tr>\n",
       "<tr><td><i style='opacity: 0.6'>724,640</i></td><td>&#x27;244400404_parkings-publics-nantes-statistiques-...</td><td>f1780a3abc2f53ea1616e8fc7e732488dcd15049</td><td>&quot;{&#x27;code_type_usager&#x27;: 99, &#x27;occupation_nb_vehicul...</td><td>2021-05-27T09:10:24.089Z</td></tr>\n",
       "<tr><td><i style='opacity: 0.6'>724,641</i></td><td>&#x27;244400404_parkings-publics-nantes-statistiques-...</td><td>fd6655fbdeab3a0ac4d712bae54702a9a0f59910</td><td>&quot;{&#x27;code_type_usager&#x27;: 1, &#x27;occupation_nb_vehicule...</td><td>2021-05-27T09:10:24.089Z</td></tr>\n",
       "<tr><td><i style='opacity: 0.6'>724,642</i></td><td>&#x27;244400404_parkings-publics-nantes-statistiques-...</td><td>23228e89415e15e4a5c84a04cc1bccb5e8a19a46</td><td>&quot;{&#x27;code_type_usager&#x27;: 2, &#x27;occupation_nb_vehicule...</td><td>2021-05-27T09:10:24.089Z</td></tr>\n",
       "<tr><td><i style='opacity: 0.6'>724,643</i></td><td>&#x27;244400404_parkings-publics-nantes-statistiques-...</td><td>51d7c0a11b10a836fd05f0b491f98997f1bf8c30</td><td>&quot;{&#x27;code_type_usager&#x27;: 99, &#x27;occupation_nb_vehicul...</td><td>2021-05-27T09:10:24.089Z</td></tr>\n",
       "</tbody>\n",
       "</table>"
      ],
      "text/plain": [
       "#        datasetid                                            recordid                                  fields                                               record_timestamp\n",
       "0        '244400404_parkings-publics-nantes-statistiques-...  6260b0571ca3989e6a2b8f488a33d79f52c75645  \"{'code_type_usager': 1, 'occupation_nb_vehicule...  2021-05-27T09:10:24.089Z\n",
       "1        '244400404_parkings-publics-nantes-statistiques-...  b27b6ef10998d6524f224509681b2be9ddbcd405  \"{'code_type_usager': 2, 'occupation_nb_vehicule...  2021-05-27T09:10:24.089Z\n",
       "2        '244400404_parkings-publics-nantes-statistiques-...  1c767e72a0dfc828aca3c7521146818ab694cb89  \"{'code_type_usager': 1, 'occupation_nb_vehicule...  2021-05-27T09:10:24.089Z\n",
       "3        '244400404_parkings-publics-nantes-statistiques-...  5fe135a6f08a19016649f741866928be655d3938  \"{'code_type_usager': 99, 'occupation_nb_vehicul...  2021-05-27T09:10:24.089Z\n",
       "4        '244400404_parkings-publics-nantes-statistiques-...  92a789c8ddd4f9c40496c5431030f78323c15ea3  \"{'code_type_usager': 2, 'occupation_nb_vehicule...  2021-05-27T09:10:24.089Z\n",
       "...      ...                                                  ...                                       ...                                                  ...\n",
       "724,639  '244400404_parkings-publics-nantes-statistiques-...  70501736408d7adfe84231e5024c206863dc2dc6  \"{'code_type_usager': 99, 'occupation_nb_vehicul...  2021-05-27T09:10:24.089Z\n",
       "724,640  '244400404_parkings-publics-nantes-statistiques-...  f1780a3abc2f53ea1616e8fc7e732488dcd15049  \"{'code_type_usager': 99, 'occupation_nb_vehicul...  2021-05-27T09:10:24.089Z\n",
       "724,641  '244400404_parkings-publics-nantes-statistiques-...  fd6655fbdeab3a0ac4d712bae54702a9a0f59910  \"{'code_type_usager': 1, 'occupation_nb_vehicule...  2021-05-27T09:10:24.089Z\n",
       "724,642  '244400404_parkings-publics-nantes-statistiques-...  23228e89415e15e4a5c84a04cc1bccb5e8a19a46  \"{'code_type_usager': 2, 'occupation_nb_vehicule...  2021-05-27T09:10:24.089Z\n",
       "724,643  '244400404_parkings-publics-nantes-statistiques-...  51d7c0a11b10a836fd05f0b491f98997f1bf8c30  \"{'code_type_usager': 99, 'occupation_nb_vehicul...  2021-05-27T09:10:24.089Z"
      ]
     },
     "execution_count": 4,
     "metadata": {},
     "output_type": "execute_result"
    }
   ],
   "source": [
    "# Parsing the data by using vaex json\n",
    "data_file = 'data/parking-data.json'\n",
    "\n",
    "df_parking = vaex.from_json(data_file, copy_index=False)\n",
    "df_parking"
   ]
  },
  {
   "cell_type": "code",
   "execution_count": 16,
   "metadata": {},
   "outputs": [
    {
     "data": {
      "text/plain": [
       "{'code_type_usager': 1,\n",
       " 'occupation_nb_vehicules': 29,\n",
       " 'appellation': 'Decré-Bouffay',\n",
       " 'idobj': '284',\n",
       " 'horodatage': '2019-12-31T23:00:00Z'}"
      ]
     },
     "execution_count": 16,
     "metadata": {},
     "output_type": "execute_result"
    }
   ],
   "source": [
    "df_parking.fields.values[0]"
   ]
  }
 ],
 "metadata": {
  "interpreter": {
   "hash": "b068b0b8d597e4d7bdaf94f2d5960a22795601dc214257cbb985d9ae207457b2"
  },
  "kernelspec": {
   "display_name": "Python 3.7.7 64-bit ('ML': virtualenv)",
   "language": "python",
   "name": "python3"
  },
  "language_info": {
   "codemirror_mode": {
    "name": "ipython",
    "version": 3
   },
   "file_extension": ".py",
   "mimetype": "text/x-python",
   "name": "python",
   "nbconvert_exporter": "python",
   "pygments_lexer": "ipython3",
   "version": "3.7.7"
  },
  "orig_nbformat": 4
 },
 "nbformat": 4,
 "nbformat_minor": 2
}
